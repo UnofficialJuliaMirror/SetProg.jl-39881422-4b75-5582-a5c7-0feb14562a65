{
 "cells": [
  {
   "cell_type": "markdown",
   "metadata": {},
   "source": [
    "In this notebook, we compute the maximal (resp. minimal) volume ellispoids and polynomial sublevel sets contained (containing) the square with vertices $(\\pm 1, \\pm 1)$. We start by defining the square with [Polyhedra](https://github.com/JuliaPolyhedra/Polyhedra.jl)."
   ]
  },
  {
   "cell_type": "code",
   "execution_count": null,
   "metadata": {
    "collapsed": true
   },
   "outputs": [],
   "source": [
    "using Polyhedra\n",
    "h = HalfSpace([1, 0], 1.0) ∩ HalfSpace([-1, 0], 1) ∩ HalfSpace([0, 1], 1) ∩ HalfSpace([0, -1], 1)\n",
    "p = polyhedron(h);"
   ]
  },
  {
   "cell_type": "markdown",
   "metadata": {},
   "source": [
    "We need to pick an SDP solver, see [here](http://www.juliaopt.org/JuMP.jl/dev/installation/#Getting-Solvers-1) for a list of available ones. Run one of the following two cells to choose choose the solver."
   ]
  },
  {
   "cell_type": "code",
   "execution_count": null,
   "metadata": {},
   "outputs": [],
   "source": [
    "using SCS\n",
    "using SetProg\n",
    "factory = with_optimizer(SCS.Optimizer, verbose=0);"
   ]
  },
  {
   "cell_type": "code",
   "execution_count": null,
   "metadata": {
    "collapsed": true
   },
   "outputs": [],
   "source": [
    "using CSDP    # CSDP is less appropriate than SCS and Mosek because it does not natively support\n",
    "using SetProg # SOC constraints so they need to be bridged to SDP constraints.\n",
    "factory = with_optimizer(CSDP.Optimizer, printlevel=0); # SOC constraints are needed for the nth_root"
   ]
  },
  {
   "cell_type": "code",
   "execution_count": null,
   "metadata": {
    "collapsed": true
   },
   "outputs": [],
   "source": [
    "using MathOptInterfaceMosek\n",
    "using SetProg\n",
    "factory = with_optimizer(MosekOptimizer);"
   ]
  },
  {
   "cell_type": "markdown",
   "metadata": {},
   "source": [
    "## John ellipsoid\n",
    "\n",
    "The maximal volume ellispoid contained in a convex body is called its John ellipsoid.\n",
    "The John ellipsoid for our square can be computed as follows."
   ]
  },
  {
   "cell_type": "code",
   "execution_count": null,
   "metadata": {},
   "outputs": [],
   "source": [
    "model = Model(factory);\n",
    "@variable(model, john, Ellipsoid(dimension = 2))\n",
    "cref = @constraint(model, john ⊆ p)\n",
    "@objective(model, Max, nth_root(volume(john)))\n",
    "@time JuMP.optimize!(model)\n",
    "@show JuMP.termination_status(model)\n",
    "@show JuMP.objective_value(model);"
   ]
  },
  {
   "cell_type": "markdown",
   "metadata": {},
   "source": [
    "## Löwner ellipsoid\n",
    "\n",
    "The minimal volume ellispoid contained in a convex body is called its Löwner ellipsoid.\n",
    "The Löwner ellipsoid for our square can be computed as follows."
   ]
  },
  {
   "cell_type": "code",
   "execution_count": null,
   "metadata": {},
   "outputs": [],
   "source": [
    "model = Model(factory);\n",
    "@variable(model, löwner, Ellipsoid(dimension = 2))\n",
    "cref = @constraint(model, p ⊆ löwner)\n",
    "@objective(model, Min, nth_root(volume(löwner)))\n",
    "@time JuMP.optimize!(model)\n",
    "@show JuMP.termination_status(model)\n",
    "@show JuMP.objective_value(model);"
   ]
  },
  {
   "cell_type": "markdown",
   "metadata": {},
   "source": [
    "We can visualize the Löwner and John ellispoids as follows."
   ]
  },
  {
   "cell_type": "code",
   "execution_count": null,
   "metadata": {},
   "outputs": [],
   "source": [
    "using Plots\n",
    "plot(ratio=:equal)\n",
    "plot!(JuMP.value(löwner))\n",
    "plot!(p)\n",
    "plot!(JuMP.value(john))"
   ]
  },
  {
   "cell_type": "markdown",
   "metadata": {
    "collapsed": true
   },
   "source": [
    "## Higher degree polynomials\n",
    "\n",
    "Ellispoids are the sublevel sets of positive definite *quadratic* forms.\n",
    "To allow for more sophisticated shapes, we could instead look for sublevel sets of *quartic* forms.\n",
    "For this, we simply need to replace `Ellipsoid(dimension=2)` by `PolySet(degree=4, dimension=2)`.\n",
    "Note that the volumes optimized are not exactly the volume anymore but provide a reasonable heuristic.\n",
    "\n",
    "### Maximal volume quartic sublevel set contained in the square"
   ]
  },
  {
   "cell_type": "code",
   "execution_count": null,
   "metadata": {},
   "outputs": [],
   "source": [
    "model = Model(factory);\n",
    "@variable(model, quartic_inner, PolySet(degree = 4, dimension = 2, convex = true))\n",
    "cref = @constraint(model, quartic_inner ⊆ p)\n",
    "@objective(model, Max, nth_root(volume(quartic_inner)))\n",
    "@time JuMP.optimize!(model)\n",
    "@show JuMP.termination_status(model)\n",
    "@show JuMP.objective_value(model);"
   ]
  },
  {
   "cell_type": "markdown",
   "metadata": {},
   "source": [
    "### Minimal volume quartic sublevel set containing the square"
   ]
  },
  {
   "cell_type": "code",
   "execution_count": null,
   "metadata": {},
   "outputs": [],
   "source": [
    "model = Model(factory);\n",
    "@variable(model, quartic_outer, PolySet(degree = 4, dimension = 2, convex=true))\n",
    "cref = @constraint(model, p ⊆ quartic_outer)\n",
    "@objective(model, Min, nth_root(volume(quartic_outer)))\n",
    "@time JuMP.optimize!(model)\n",
    "@show JuMP.termination_status(model)\n",
    "@show JuMP.objective_value(model);"
   ]
  },
  {
   "cell_type": "markdown",
   "metadata": {},
   "source": [
    "We can visualize the quartic sublevel sets as follows."
   ]
  },
  {
   "cell_type": "code",
   "execution_count": null,
   "metadata": {},
   "outputs": [],
   "source": [
    "JuMP.value(quartic_inner).p"
   ]
  },
  {
   "cell_type": "code",
   "execution_count": null,
   "metadata": {},
   "outputs": [],
   "source": [
    "JuMP.value(quartic_outer).p"
   ]
  },
  {
   "cell_type": "code",
   "execution_count": null,
   "metadata": {},
   "outputs": [],
   "source": [
    "using Plots\n",
    "plot(ratio=:equal)\n",
    "#plot!(JuMP.value(quartic_outer))\n",
    "plot!(p)\n",
    "plot!(JuMP.value(quartic_inner))"
   ]
  },
  {
   "cell_type": "code",
   "execution_count": null,
   "metadata": {
    "collapsed": true
   },
   "outputs": [],
   "source": []
  }
 ],
 "metadata": {
  "kernelspec": {
   "display_name": "Julia 1.0.3-pre",
   "language": "julia",
   "name": "julia-1.0"
  },
  "language_info": {
   "file_extension": ".jl",
   "mimetype": "application/julia",
   "name": "julia",
   "version": "1.0.3"
  }
 },
 "nbformat": 4,
 "nbformat_minor": 2
}
